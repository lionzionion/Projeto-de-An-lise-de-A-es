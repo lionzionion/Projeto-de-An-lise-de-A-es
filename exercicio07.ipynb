# Instalação do pacote wget
!pip install wget==3.2

# Download do arquivo ZIP contendo os dados
import wget
wget.download(url='https://archive.ics.uci.edu/ml/machine-learning-databases/00312/dow_jones_index.zip', out='./dados.zip')

# Descompactação do arquivo ZIP
import zipfile
with zipfile.ZipFile('./dados.zip', 'r') as fp:
    fp.extractall('./dados')

# Renomeação do arquivo de dados para dow_jones_index.csv
import os
os.rename('./dados/dow_jones_index.data', './dados/dow_jones_index.csv')

# Instalação do pacote pandas
!pip install pandas==1.1.5

# Leitura dos dados CSV usando pandas
import pandas as pd
df = pd.read_csv('./dados/dow_jones_index.csv')

# Exibição das 10 primeiras linhas do DataFrame
df.head(n=10)

# Listagem das colunas do DataFrame
df.columns.to_list()

# Obtenção do número de linhas e colunas do DataFrame
linhas, colunas = df.shape
print(f'Número de linhas: {linhas}')
print(f'Número de colunas: {colunas}')

# Filtragem dos dados para ações da McDonald's (MCD)
df_mcd = df[df['stock'] == 'MCD']

# Seleção das colunas relevantes para ações da McDonald's
df_mcd = df_mcd[['date', 'open', 'high', 'low', 'close']]

# Conversão dos valores das colunas para tipo float, removendo o símbolo "$"
for col in ['open', 'high', 'low', 'close']:
    df_mcd[col] = df_mcd[col].apply(lambda value: float(value.split(sep='$')[-1]))

# Filtragem dos dados para ações da Coca-Cola (KO)
df_coca_cola = df[df['stock'] == 'KO']

# Seleção das colunas relevantes para ações da Coca-Cola
df_coca_cola = df_coca_cola[['date', 'open', 'high', 'low', 'close']]

# Conversão dos valores das colunas para tipo float, removendo o símbolo "$"
for col in ['open', 'high', 'low', 'close']:
    df_coca_cola[col] = df_coca_cola[col].apply(lambda value: float(value.split(sep='$')[-1]))

# Instalação do pacote seaborn
!pip install seaborn==0.11.1

# Importação do seaborn e criação de gráficos de linhas para as ações da McDonald's
import seaborn as sns
plot = sns.lineplot(x="date", y="open", data=df_mcd)
_ = plot.set_xticklabels(labels=df_mcd['date'], rotation=90)

# Criação de gráficos adicionais para as ações da McDonald's e salvamento do gráfico em um arquivo PNG
# Gráficos para as ações da McDonald's
plot = sns.lineplot(x="date", y="close", data=df_mcd)
_ = plot.set_xticklabels(labels=df_mcd['date'], rotation=90)

plot = sns.lineplot(x="date", y="value", hue='variable', data=pd.melt(df_mcd, ['date']))
_ = plot.set_xticklabels(labels=df_mcd['date'], rotation=90)

plot.figure.savefig("./mcd.png")

# Criação de gráficos para as ações da Coca-Cola e salvamento do gráfico em um arquivo PNG
# Gráficos para as ações da Coca-Cola
plot = sns.lineplot(x="date", y="open", data=df_coca_cola)
_ = plot.set_xticklabels(labels=df_coca_cola['date'], rotation=90)

plot = sns.lineplot(x="date", y="close", data=df_coca_cola)
_ = plot.set_xticklabels(labels=df_coca_cola['date'], rotation=90)

plot = sns.lineplot(x="date", y="value", hue='variable', data=pd.melt(df_coca_cola, ['date']))
_ = plot.set_xticklabels(labels=df_coca_cola['date'], rotation=90)

plot.figure.savefig("./coca_cola.png")
